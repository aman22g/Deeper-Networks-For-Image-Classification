{
 "cells": [
  {
   "cell_type": "code",
   "execution_count": 23,
   "metadata": {
    "id": "AowuuRQxltuF"
   },
   "outputs": [],
   "source": [
    "import torch\n",
    "import torch.nn as nn\n",
    "import torchvision.transforms as transforms\n",
    "import torch.utils.data as data\n",
    "import torchvision.datasets as datasets\n",
    "import torch.nn.functional as F\n",
    "import torch.optim as optim\n",
    "from sklearn import decomposition\n",
    "from sklearn import manifold\n",
    "import copy\n",
    "import random\n",
    "from sklearn.metrics import confusion_matrix\n",
    "from sklearn.metrics import ConfusionMatrixDisplay\n",
    "import matplotlib.pyplot as plt\n",
    "import numpy as np\n",
    "import time"
   ]
  },
  {
   "cell_type": "code",
   "execution_count": 24,
   "metadata": {
    "id": "1afkvYeflvRw"
   },
   "outputs": [],
   "source": [
    "SEED = 1234\n",
    "random.seed(SEED)\n",
    "np.random.seed(SEED)\n",
    "torch.manual_seed(SEED)\n",
    "torch.cuda.manual_seed(SEED)\n",
    "torch.backends.cudnn.deterministic = True"
   ]
  },
  {
   "cell_type": "code",
   "execution_count": 25,
   "metadata": {
    "id": "fMoUZBQHlxbr"
   },
   "outputs": [],
   "source": [
    "class VGG(nn.Module):\n",
    "  def __init__(self, features, output_dim):\n",
    "    super().__init__()\n",
    "    self.features = features\n",
    "    self.avgpool = nn.AdaptiveAvgPool2d(7)\n",
    "    self.classifier = nn.Sequential(\n",
    "        nn.Linear(512 * 7 * 7, 4096),\n",
    "        nn.ReLU(inplace = True),\n",
    "        nn.Dropout(0.5),\n",
    "        nn.Linear(4096, 4096),\n",
    "        nn.ReLU(inplace = True),\n",
    "        nn.Dropout(0.5),\n",
    "        nn.Linear(4096, output_dim),\n",
    "    )\n",
    "  def forward(self, x):\n",
    "    x = self.features(x)\n",
    "    x = self.avgpool(x)\n",
    "    h = x.view(x.shape[0], -1)\n",
    "    x = self.classifier(h)\n",
    "    return x, h"
   ]
  },
  {
   "cell_type": "code",
   "execution_count": 26,
   "metadata": {
    "id": "g8o0d7XvneqX"
   },
   "outputs": [],
   "source": [
    "vgg11_config = [64, 'M', 128, 'M', 256, 256, 'M', 512, 512, 'M', 512, 512, 'M']"
   ]
  },
  {
   "cell_type": "code",
   "execution_count": 27,
   "metadata": {
    "id": "fF-VGsgvl-fp"
   },
   "outputs": [],
   "source": [
    "def get_vgg_layers(config, batch_norm):\n",
    "  layers = []\n",
    "  in_channels = 1\n",
    "  for c in config:\n",
    "    assert c == 'M' or isinstance(c, int)\n",
    "    if c == 'M':\n",
    "      layers += [nn.MaxPool2d(kernel_size = 2)]\n",
    "    else:\n",
    "      conv2d = nn.Conv2d(in_channels, c, kernel_size = 3, padding = 1)\n",
    "      if batch_norm:\n",
    "        layers += [conv2d, nn.BatchNorm2d(c), nn.ReLU(inplace = True)]\n",
    "      else:\n",
    "        layers += [conv2d, nn.ReLU(inplace = True)]\n",
    "      in_channels = c\n",
    "  return nn.Sequential(*layers)"
   ]
  },
  {
   "cell_type": "code",
   "execution_count": 28,
   "metadata": {
    "id": "KSALllJXmBVW"
   },
   "outputs": [],
   "source": [
    "vgg11_layers = get_vgg_layers(vgg11_config, batch_norm = True)"
   ]
  },
  {
   "cell_type": "code",
   "execution_count": 29,
   "metadata": {
    "colab": {
     "base_uri": "https://localhost:8080/"
    },
    "id": "O5bfpfjbnoGU",
    "outputId": "3f850f95-7159-4747-a320-6ebb58371ab8"
   },
   "outputs": [
    {
     "name": "stdout",
     "output_type": "stream",
     "text": [
      "VGG(\n",
      "  (features): Sequential(\n",
      "    (0): Conv2d(1, 64, kernel_size=(3, 3), stride=(1, 1), padding=(1, 1))\n",
      "    (1): BatchNorm2d(64, eps=1e-05, momentum=0.1, affine=True, track_running_stats=True)\n",
      "    (2): ReLU(inplace=True)\n",
      "    (3): MaxPool2d(kernel_size=2, stride=2, padding=0, dilation=1, ceil_mode=False)\n",
      "    (4): Conv2d(64, 128, kernel_size=(3, 3), stride=(1, 1), padding=(1, 1))\n",
      "    (5): BatchNorm2d(128, eps=1e-05, momentum=0.1, affine=True, track_running_stats=True)\n",
      "    (6): ReLU(inplace=True)\n",
      "    (7): MaxPool2d(kernel_size=2, stride=2, padding=0, dilation=1, ceil_mode=False)\n",
      "    (8): Conv2d(128, 256, kernel_size=(3, 3), stride=(1, 1), padding=(1, 1))\n",
      "    (9): BatchNorm2d(256, eps=1e-05, momentum=0.1, affine=True, track_running_stats=True)\n",
      "    (10): ReLU(inplace=True)\n",
      "    (11): Conv2d(256, 256, kernel_size=(3, 3), stride=(1, 1), padding=(1, 1))\n",
      "    (12): BatchNorm2d(256, eps=1e-05, momentum=0.1, affine=True, track_running_stats=True)\n",
      "    (13): ReLU(inplace=True)\n",
      "    (14): MaxPool2d(kernel_size=2, stride=2, padding=0, dilation=1, ceil_mode=False)\n",
      "    (15): Conv2d(256, 512, kernel_size=(3, 3), stride=(1, 1), padding=(1, 1))\n",
      "    (16): BatchNorm2d(512, eps=1e-05, momentum=0.1, affine=True, track_running_stats=True)\n",
      "    (17): ReLU(inplace=True)\n",
      "    (18): Conv2d(512, 512, kernel_size=(3, 3), stride=(1, 1), padding=(1, 1))\n",
      "    (19): BatchNorm2d(512, eps=1e-05, momentum=0.1, affine=True, track_running_stats=True)\n",
      "    (20): ReLU(inplace=True)\n",
      "    (21): MaxPool2d(kernel_size=2, stride=2, padding=0, dilation=1, ceil_mode=False)\n",
      "    (22): Conv2d(512, 512, kernel_size=(3, 3), stride=(1, 1), padding=(1, 1))\n",
      "    (23): BatchNorm2d(512, eps=1e-05, momentum=0.1, affine=True, track_running_stats=True)\n",
      "    (24): ReLU(inplace=True)\n",
      "    (25): Conv2d(512, 512, kernel_size=(3, 3), stride=(1, 1), padding=(1, 1))\n",
      "    (26): BatchNorm2d(512, eps=1e-05, momentum=0.1, affine=True, track_running_stats=True)\n",
      "    (27): ReLU(inplace=True)\n",
      "    (28): MaxPool2d(kernel_size=2, stride=2, padding=0, dilation=1, ceil_mode=False)\n",
      "  )\n",
      "  (avgpool): AdaptiveAvgPool2d(output_size=7)\n",
      "  (classifier): Sequential(\n",
      "    (0): Linear(in_features=25088, out_features=4096, bias=True)\n",
      "    (1): ReLU(inplace=True)\n",
      "    (2): Dropout(p=0.5, inplace=False)\n",
      "    (3): Linear(in_features=4096, out_features=4096, bias=True)\n",
      "    (4): ReLU(inplace=True)\n",
      "    (5): Dropout(p=0.5, inplace=False)\n",
      "    (6): Linear(in_features=4096, out_features=10, bias=True)\n",
      "  )\n",
      ")\n"
     ]
    }
   ],
   "source": [
    "OUTPUT_DIM = 10\n",
    "model = VGG(vgg11_layers, OUTPUT_DIM)\n",
    "print(model)"
   ]
  },
  {
   "cell_type": "code",
   "execution_count": 30,
   "metadata": {
    "id": "fNUDr0InmD_b"
   },
   "outputs": [],
   "source": [
    "ROOT = '.data'\n",
    "pretrained_size = 224\n",
    "train_data = datasets.MNIST(root = ROOT, train=True, download=True,\n",
    "                             transform=transforms.Compose([\n",
    "                               transforms.Resize(pretrained_size),\n",
    "                               transforms.RandomRotation(5, fill=(0,)),                                    \n",
    "                               transforms.ToTensor(),\n",
    "                               transforms.Normalize(\n",
    "                                 (0.1307,), (0.3081,))\n",
    "                             ]))\n",
    "test_data = datasets.MNIST(root = ROOT, train=False, download=True,\n",
    "                             transform=transforms.Compose([\n",
    "                               transforms.Resize(pretrained_size),                                        \n",
    "                               transforms.ToTensor(),\n",
    "                               transforms.Normalize(\n",
    "                                 (0.1307,), (0.3081,))\n",
    "                             ]))"
   ]
  },
  {
   "cell_type": "code",
   "execution_count": 31,
   "metadata": {
    "id": "eex5pbQfmOB4"
   },
   "outputs": [],
   "source": [
    "def normalize_image(image):\n",
    "    image_min = image.min()\n",
    "    image_max = image.max()\n",
    "    image.clamp_(min = image_min, max = image_max)\n",
    "    image.add_(-image_min).div_(image_max - image_min + 1e-5)\n",
    "    return image\n",
    "def plot_images(images):\n",
    "    n_images = len(images)\n",
    "    rows = int(np.sqrt(n_images))\n",
    "    cols = int(np.sqrt(n_images))\n",
    "    fig = plt.figure()\n",
    "    for i in range(rows*cols):\n",
    "      ax = fig.add_subplot(rows, cols, i+1)\n",
    "      image = images[i]\n",
    "      ax.imshow(image.view(224, 224).cpu().numpy(), cmap = 'bone')\n",
    "      ax.axis('off')"
   ]
  },
  {
   "cell_type": "code",
   "execution_count": 32,
   "metadata": {
    "id": "-I0zr3JbmOmj"
   },
   "outputs": [],
   "source": [
    "VALID_RATIO = 0.9\n",
    "n_train_examples = int(len(train_data) * VALID_RATIO)\n",
    "n_valid_examples = len(train_data)-n_train_examples"
   ]
  },
  {
   "cell_type": "code",
   "execution_count": 33,
   "metadata": {
    "id": "pPyAMND9mRzT"
   },
   "outputs": [],
   "source": [
    "train_data, valid_data = data.random_split(train_data, [n_train_examples, n_valid_examples])"
   ]
  },
  {
   "cell_type": "code",
   "execution_count": 34,
   "metadata": {
    "id": "B3ubLgxAmT_Z"
   },
   "outputs": [],
   "source": [
    "BATCH_SIZE = 64\n",
    "train_iterator = data.DataLoader(train_data, shuffle = True, batch_size = BATCH_SIZE)\n",
    "valid_iterator = data.DataLoader(valid_data, batch_size = BATCH_SIZE)\n",
    "test_iterator = data.DataLoader(test_data, batch_size = BATCH_SIZE)"
   ]
  },
  {
   "cell_type": "code",
   "execution_count": 35,
   "metadata": {
    "id": "ORdIPnVomYBE"
   },
   "outputs": [],
   "source": [
    "optimizer = optim.Adam(model.parameters())\n",
    "device = torch.device('cuda' if torch.cuda.is_available() else 'cpu')\n",
    "criterion = nn.CrossEntropyLoss()\n",
    "model = model.to(device)\n",
    "criterion = criterion.to(device)"
   ]
  },
  {
   "cell_type": "code",
   "execution_count": 36,
   "metadata": {
    "id": "KiZycPqJmaPT"
   },
   "outputs": [],
   "source": [
    "def calculate_accuracy(y_pred, y):\n",
    "  top_pred = y_pred.argmax(1, keepdim = True)\n",
    "  correct = top_pred.eq(y.view_as(top_pred)).sum()\n",
    "  acc = correct.float() / y.shape[0]\n",
    "  return acc"
   ]
  },
  {
   "cell_type": "code",
   "execution_count": 37,
   "metadata": {
    "id": "V5VRubp3mb9z"
   },
   "outputs": [],
   "source": [
    "def train(model, iterator, optimizer, criterion, device):\n",
    "  epoch_loss = 0\n",
    "  epoch_acc = 0\n",
    "  model.train()\n",
    "  for (x, y) in iterator:\n",
    "    x = x.to(device)\n",
    "    y = y.to(device)\n",
    "    optimizer.zero_grad()   \n",
    "    y_pred, _ = model(x)\n",
    "    loss = criterion(y_pred, y)\n",
    "    acc = calculate_accuracy(y_pred, y)\n",
    "    loss.backward()\n",
    "    optimizer.step() \n",
    "    epoch_loss += loss.item()\n",
    "    epoch_acc += acc.item()\n",
    "  return epoch_loss / len(iterator), epoch_acc / len(iterator)"
   ]
  },
  {
   "cell_type": "code",
   "execution_count": 38,
   "metadata": {
    "id": "BGm8c6Vomdql"
   },
   "outputs": [],
   "source": [
    "def evaluate(model, iterator, criterion, device):\n",
    "  epoch_loss = 0\n",
    "  epoch_acc = 0\n",
    "  model.eval()\n",
    "  with torch.no_grad():\n",
    "    for (x, y) in iterator:\n",
    "      x = x.to(device)\n",
    "      y = y.to(device)\n",
    "      y_pred, _ = model(x)\n",
    "      loss = criterion(y_pred, y)\n",
    "      acc = calculate_accuracy(y_pred, y)\n",
    "      epoch_loss += loss.item()\n",
    "      epoch_acc += acc.item()\n",
    "  return epoch_loss / len(iterator), epoch_acc / len(iterator)"
   ]
  },
  {
   "cell_type": "code",
   "execution_count": 39,
   "metadata": {
    "id": "4vEk0ViXmfmB"
   },
   "outputs": [],
   "source": [
    "def epoch_time(start_time, end_time):\n",
    "  elapsed_time = end_time - start_time\n",
    "  elapsed_mins = int(elapsed_time / 60)\n",
    "  elapsed_secs = int(elapsed_time - (elapsed_mins * 60))\n",
    "  return elapsed_mins, elapsed_secs"
   ]
  },
  {
   "cell_type": "code",
   "execution_count": 40,
   "metadata": {
    "colab": {
     "base_uri": "https://localhost:8080/"
    },
    "id": "ISx6akcJmhkk",
    "outputId": "d51aeda5-822b-46ac-eff4-ad3a072a1591"
   },
   "outputs": [
    {
     "name": "stdout",
     "output_type": "stream",
     "text": [
      "Epoch: 01 | Epoch Time: 33m 50s\n",
      "\tTrain Loss: 1.041 | Train Acc: 73.12%\n",
      "\t Val. Loss: 0.597 |  Val. Acc: 83.30%\n",
      "Epoch: 02 | Epoch Time: 34m 9s\n",
      "\tTrain Loss: 0.417 | Train Acc: 86.38%\n",
      "\t Val. Loss: 0.133 |  Val. Acc: 97.12%\n",
      "Epoch: 03 | Epoch Time: 34m 12s\n",
      "\tTrain Loss: 0.311 | Train Acc: 89.72%\n",
      "\t Val. Loss: 0.130 |  Val. Acc: 98.14%\n",
      "Epoch: 04 | Epoch Time: 34m 39s\n",
      "\tTrain Loss: 0.228 | Train Acc: 92.57%\n",
      "\t Val. Loss: 0.089 |  Val. Acc: 98.54%\n",
      "Epoch: 05 | Epoch Time: 34m 40s\n",
      "\tTrain Loss: 0.149 | Train Acc: 95.54%\n",
      "\t Val. Loss: 0.072 |  Val. Acc: 98.29%\n"
     ]
    }
   ],
   "source": [
    "EPOCHS = 5\n",
    "best_valid_loss = float('inf')\n",
    "train_graph = {}\n",
    "train_graph['Epoch'] = []\n",
    "train_graph['Train_loss'] = []\n",
    "train_graph['Train_Accuracy'] = []\n",
    "train_graph['Valid_loss'] = []\n",
    "train_graph['Valid_Accuracy'] = []\n",
    "for epoch in range(EPOCHS):\n",
    "    start_time = time.monotonic()\n",
    "    train_loss, train_acc = train(model, train_iterator, optimizer, criterion, device)\n",
    "    valid_loss, valid_acc = evaluate(model, valid_iterator, criterion, device)\n",
    "    if valid_loss < best_valid_loss:\n",
    "        best_valid_loss = valid_loss\n",
    "        torch.save(model.state_dict(), 'tut4-model.pt')\n",
    "    end_time = time.monotonic()\n",
    "    epoch_mins, epoch_secs = epoch_time(start_time, end_time)\n",
    "    train_graph['Epoch'].append(epoch+1)\n",
    "    train_graph['Train_loss'].append(train_loss)\n",
    "    train_graph['Train_Accuracy'].append(train_acc)\n",
    "    train_graph['Valid_loss'].append(valid_loss)\n",
    "    train_graph['Valid_Accuracy'].append(valid_acc)\n",
    "    print(f'Epoch: {epoch+1:02} | Epoch Time: {epoch_mins}m {epoch_secs}s')\n",
    "    print(f'\\tTrain Loss: {train_loss:.3f} | Train Acc: {train_acc*100:.2f}%')\n",
    "    print(f'\\t Val. Loss: {valid_loss:.3f} |  Val. Acc: {valid_acc*100:.2f}%')"
   ]
  },
  {
   "cell_type": "code",
   "execution_count": 41,
   "metadata": {
    "colab": {
     "base_uri": "https://localhost:8080/"
    },
    "id": "Kz6L8gbymjSN",
    "outputId": "621f6229-13a3-44d6-d37d-f8290df93dc2"
   },
   "outputs": [
    {
     "name": "stdout",
     "output_type": "stream",
     "text": [
      "Test Loss: 0.073 | Test Acc: 98.17%\n"
     ]
    }
   ],
   "source": [
    "model.load_state_dict(torch.load('tut4-model.pt'))\n",
    "test_loss, test_acc = evaluate(model, test_iterator, criterion, device)\n",
    "print(f'Test Loss: {test_loss:.3f} | Test Acc: {test_acc*100:.2f}%')"
   ]
  },
  {
   "cell_type": "code",
   "execution_count": 42,
   "metadata": {
    "id": "6pbfEnZUN6uR"
   },
   "outputs": [],
   "source": [
    "def show_hist(x, y, x_label, y_label, axis_label='loss'):\n",
    "  fig = plt.figure(figsize=(6,4))\n",
    "  plt.plot(range(1,len(train_hist['Epoch'])+1),train_hist[x], label= x_label)\n",
    "  plt.plot(range(1,len(train_hist['Epoch'])+1),train_hist[y],label= y_label)\n",
    "  plt.xlabel('epochs')\n",
    "  plt.ylabel(axis_label)\n",
    "  plt.legend()\n",
    "  plt.tight_layout()\n",
    "  plt.show()"
   ]
  },
  {
   "cell_type": "code",
   "execution_count": 43,
   "metadata": {
    "colab": {
     "base_uri": "https://localhost:8080/",
     "height": 577
    },
    "id": "KRkEE0AfN87F",
    "outputId": "4350c731-a61c-45a1-fa80-29666be59017"
   },
   "outputs": [
    {
     "data": {
      "image/png": "[encoded data removed]",
      "text/plain": [
       "<Figure size 432x288 with 1 Axes>"
      ]
     },
     "metadata": {
      "needs_background": "light",
      "tags": []
     },
     "output_type": "display_data"
    },
    {
     "data": {
      "image/png": "[encoded data removed]",
      "text/plain": [
       "<Figure size 432x288 with 1 Axes>"
      ]
     },
     "metadata": {
      "needs_background": "light",
      "tags": []
     },
     "output_type": "display_data"
    }
   ],
   "source": [
    "show_hist('Train_loss', 'Valid_loss', 'Training Loss', 'Validation Loss', 'loss')\n",
    "show_hist('Train_Accuracy', 'Valid_Accuracy', 'Training Accuracy', 'Validation Accuracy', 'accuracy')"
   ]
  }
 ],
 "metadata": {
  "accelerator": "GPU",
  "colab": {
   "collapsed_sections": [],
   "name": "Untitled0.ipynb",
   "provenance": []
  },
  "kernelspec": {
   "display_name": "Python 3",
   "language": "python",
   "name": "python3"
  },
  "language_info": {
   "codemirror_mode": {
    "name": "ipython",
    "version": 3
   },
   "file_extension": ".py",
   "mimetype": "text/x-python",
   "name": "python",
   "nbconvert_exporter": "python",
   "pygments_lexer": "ipython3",
   "version": "3.8.8"
  }
 },
 "nbformat": 4,
 "nbformat_minor": 1
}
